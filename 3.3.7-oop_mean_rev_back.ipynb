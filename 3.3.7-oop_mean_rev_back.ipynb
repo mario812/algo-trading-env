{
 "cells": [
  {
   "cell_type": "markdown",
   "id": "45f67ce0",
   "metadata": {},
   "source": [
    "# Uso de la Clase MeanRevBacktester\n",
    "Ahora usaremos la clase Mean Reversion Backtester la cual permite realizar backtest con muchas estrategias y muchos instrumentos usando unas pocas líneas de código. El módulo MeanRevBacktester debe residir en la carpeta de trabajo"
   ]
  },
  {
   "cell_type": "code",
   "execution_count": 1,
   "id": "f89cc332",
   "metadata": {},
   "outputs": [],
   "source": [
    "import pandas as pd\n",
    "import numpy as np\n",
    "import matplotlib.pyplot as plt\n",
    "from scipy.optimize import brute\n",
    "plt.style.use(\"seaborn-v0_8-whitegrid\")"
   ]
  },
  {
   "cell_type": "code",
   "execution_count": 3,
   "id": "3d530e31",
   "metadata": {},
   "outputs": [
    {
     "data": {
      "text/html": [
       "<div>\n",
       "<style scoped>\n",
       "    .dataframe tbody tr th:only-of-type {\n",
       "        vertical-align: middle;\n",
       "    }\n",
       "\n",
       "    .dataframe tbody tr th {\n",
       "        vertical-align: top;\n",
       "    }\n",
       "\n",
       "    .dataframe thead th {\n",
       "        text-align: right;\n",
       "    }\n",
       "</style>\n",
       "<table border=\"1\" class=\"dataframe\">\n",
       "  <thead>\n",
       "    <tr style=\"text-align: right;\">\n",
       "      <th></th>\n",
       "      <th>EURUSD</th>\n",
       "      <th>GBPUSD</th>\n",
       "      <th>EURAUD</th>\n",
       "    </tr>\n",
       "    <tr>\n",
       "      <th>time</th>\n",
       "      <th></th>\n",
       "      <th></th>\n",
       "      <th></th>\n",
       "    </tr>\n",
       "  </thead>\n",
       "  <tbody>\n",
       "    <tr>\n",
       "      <th>2018-01-01 22:00:00+00:00</th>\n",
       "      <td>1.201205</td>\n",
       "      <td>1.351705</td>\n",
       "      <td>1.533390</td>\n",
       "    </tr>\n",
       "    <tr>\n",
       "      <th>2018-01-02 04:00:00+00:00</th>\n",
       "      <td>1.207055</td>\n",
       "      <td>1.354830</td>\n",
       "      <td>1.540480</td>\n",
       "    </tr>\n",
       "    <tr>\n",
       "      <th>2018-01-02 10:00:00+00:00</th>\n",
       "      <td>1.204440</td>\n",
       "      <td>1.357860</td>\n",
       "      <td>1.537980</td>\n",
       "    </tr>\n",
       "    <tr>\n",
       "      <th>2018-01-02 16:00:00+00:00</th>\n",
       "      <td>1.205800</td>\n",
       "      <td>1.359180</td>\n",
       "      <td>1.540185</td>\n",
       "    </tr>\n",
       "    <tr>\n",
       "      <th>2018-01-02 22:00:00+00:00</th>\n",
       "      <td>1.204690</td>\n",
       "      <td>1.359530</td>\n",
       "      <td>1.542225</td>\n",
       "    </tr>\n",
       "    <tr>\n",
       "      <th>...</th>\n",
       "      <td>...</td>\n",
       "      <td>...</td>\n",
       "      <td>...</td>\n",
       "    </tr>\n",
       "    <tr>\n",
       "      <th>2019-12-29 22:00:00+00:00</th>\n",
       "      <td>1.119920</td>\n",
       "      <td>1.311810</td>\n",
       "      <td>1.602420</td>\n",
       "    </tr>\n",
       "    <tr>\n",
       "      <th>2019-12-30 04:00:00+00:00</th>\n",
       "      <td>1.119940</td>\n",
       "      <td>1.311880</td>\n",
       "      <td>1.600800</td>\n",
       "    </tr>\n",
       "    <tr>\n",
       "      <th>2019-12-30 10:00:00+00:00</th>\n",
       "      <td>1.120095</td>\n",
       "      <td>1.311465</td>\n",
       "      <td>1.601165</td>\n",
       "    </tr>\n",
       "    <tr>\n",
       "      <th>2019-12-30 16:00:00+00:00</th>\n",
       "      <td>1.119920</td>\n",
       "      <td>1.310990</td>\n",
       "      <td>1.601135</td>\n",
       "    </tr>\n",
       "    <tr>\n",
       "      <th>2019-12-30 22:00:00+00:00</th>\n",
       "      <td>1.120355</td>\n",
       "      <td>1.312675</td>\n",
       "      <td>1.599830</td>\n",
       "    </tr>\n",
       "  </tbody>\n",
       "</table>\n",
       "<p>2075 rows × 3 columns</p>\n",
       "</div>"
      ],
      "text/plain": [
       "                             EURUSD    GBPUSD    EURAUD\n",
       "time                                                   \n",
       "2018-01-01 22:00:00+00:00  1.201205  1.351705  1.533390\n",
       "2018-01-02 04:00:00+00:00  1.207055  1.354830  1.540480\n",
       "2018-01-02 10:00:00+00:00  1.204440  1.357860  1.537980\n",
       "2018-01-02 16:00:00+00:00  1.205800  1.359180  1.540185\n",
       "2018-01-02 22:00:00+00:00  1.204690  1.359530  1.542225\n",
       "...                             ...       ...       ...\n",
       "2019-12-29 22:00:00+00:00  1.119920  1.311810  1.602420\n",
       "2019-12-30 04:00:00+00:00  1.119940  1.311880  1.600800\n",
       "2019-12-30 10:00:00+00:00  1.120095  1.311465  1.601165\n",
       "2019-12-30 16:00:00+00:00  1.119920  1.310990  1.601135\n",
       "2019-12-30 22:00:00+00:00  1.120355  1.312675  1.599830\n",
       "\n",
       "[2075 rows x 3 columns]"
      ]
     },
     "execution_count": 3,
     "metadata": {},
     "output_type": "execute_result"
    }
   ],
   "source": [
    "df = pd.read_csv(\"intraday_pairs.csv\", parse_dates = [\"time\"], index_col = \"time\")\n",
    "df"
   ]
  },
  {
   "cell_type": "code",
   "execution_count": 4,
   "id": "f380269c",
   "metadata": {},
   "outputs": [
    {
     "name": "stdout",
     "output_type": "stream",
     "text": [
      "<class 'pandas.core.frame.DataFrame'>\n",
      "DatetimeIndex: 2075 entries, 2018-01-01 22:00:00+00:00 to 2019-12-30 22:00:00+00:00\n",
      "Data columns (total 3 columns):\n",
      " #   Column  Non-Null Count  Dtype  \n",
      "---  ------  --------------  -----  \n",
      " 0   EURUSD  2070 non-null   float64\n",
      " 1   GBPUSD  2074 non-null   float64\n",
      " 2   EURAUD  2071 non-null   float64\n",
      "dtypes: float64(3)\n",
      "memory usage: 64.8 KB\n"
     ]
    }
   ],
   "source": [
    "df.info()"
   ]
  },
  {
   "cell_type": "code",
   "execution_count": null,
   "id": "22e04382",
   "metadata": {},
   "outputs": [],
   "source": []
  }
 ],
 "metadata": {
  "kernelspec": {
   "display_name": "venv",
   "language": "python",
   "name": "python3"
  },
  "language_info": {
   "codemirror_mode": {
    "name": "ipython",
    "version": 3
   },
   "file_extension": ".py",
   "mimetype": "text/x-python",
   "name": "python",
   "nbconvert_exporter": "python",
   "pygments_lexer": "ipython3",
   "version": "3.13.2"
  }
 },
 "nbformat": 4,
 "nbformat_minor": 5
}
