{
 "cells": [
  {
   "cell_type": "markdown",
   "id": "c0d2d9fd",
   "metadata": {},
   "source": [
    "En este notebook implemento el modelo de regresión logística en base a un código suministrado por grok.  \n",
    "En primer lugar implemento el modelo multiclase."
   ]
  },
  {
   "cell_type": "code",
   "execution_count": 2,
   "id": "c9fa039a",
   "metadata": {},
   "outputs": [],
   "source": [
    "# Se realizan las importaciones necesarias\n",
    "import pandas as pd\n",
    "import numpy as np \n",
    "import matplotlib.pyplot as plt\n",
    "from sklearn.linear_model import LogisticRegression\n",
    "\n",
    "plt.style.use(\"seaborn-v0_8-whitegrid\")"
   ]
  },
  {
   "cell_type": "code",
   "execution_count": 6,
   "id": "9238ef97",
   "metadata": {},
   "outputs": [],
   "source": [
    "# cargar el archivo de datos\n",
    "df = pd.read_csv(\"five_minute.csv\", parse_dates=[\"time\"], index_col=\"time\")\n",
    "#df.head()"
   ]
  },
  {
   "cell_type": "code",
   "execution_count": 8,
   "id": "35222305",
   "metadata": {},
   "outputs": [],
   "source": [
    "# calcular los rendimientos logarítmicos\n",
    "df[\"returns\"] = np.log(df[\"price\"] / df[\"price\"].shift(1))"
   ]
  },
  {
   "cell_type": "code",
   "execution_count": 10,
   "id": "69beebb8",
   "metadata": {},
   "outputs": [],
   "source": [
    "# eliminar filas con valores NaN\n",
    "df.dropna(inplace=True)"
   ]
  },
  {
   "cell_type": "code",
   "execution_count": 11,
   "id": "e0b0d536",
   "metadata": {},
   "outputs": [],
   "source": [
    "# calcular la dirección del mercado (tres clases +1, 0, -1)\n",
    "df[\"direction\"] = np.sign(df[\"returns\"])"
   ]
  },
  {
   "cell_type": "code",
   "execution_count": 12,
   "id": "295e40b6",
   "metadata": {},
   "outputs": [
    {
     "data": {
      "text/html": [
       "<div>\n",
       "<style scoped>\n",
       "    .dataframe tbody tr th:only-of-type {\n",
       "        vertical-align: middle;\n",
       "    }\n",
       "\n",
       "    .dataframe tbody tr th {\n",
       "        vertical-align: top;\n",
       "    }\n",
       "\n",
       "    .dataframe thead th {\n",
       "        text-align: right;\n",
       "    }\n",
       "</style>\n",
       "<table border=\"1\" class=\"dataframe\">\n",
       "  <thead>\n",
       "    <tr style=\"text-align: right;\">\n",
       "      <th></th>\n",
       "      <th>price</th>\n",
       "      <th>returns</th>\n",
       "      <th>direction</th>\n",
       "    </tr>\n",
       "    <tr>\n",
       "      <th>time</th>\n",
       "      <th></th>\n",
       "      <th></th>\n",
       "      <th></th>\n",
       "    </tr>\n",
       "  </thead>\n",
       "  <tbody>\n",
       "    <tr>\n",
       "      <th>2019-01-01 22:05:00+00:00</th>\n",
       "      <td>1.146350</td>\n",
       "      <td>-0.000201</td>\n",
       "      <td>-1.0</td>\n",
       "    </tr>\n",
       "    <tr>\n",
       "      <th>2019-01-01 22:10:00+00:00</th>\n",
       "      <td>1.146320</td>\n",
       "      <td>-0.000026</td>\n",
       "      <td>-1.0</td>\n",
       "    </tr>\n",
       "    <tr>\n",
       "      <th>2019-01-01 22:15:00+00:00</th>\n",
       "      <td>1.146320</td>\n",
       "      <td>0.000000</td>\n",
       "      <td>0.0</td>\n",
       "    </tr>\n",
       "    <tr>\n",
       "      <th>2019-01-01 22:20:00+00:00</th>\n",
       "      <td>1.146530</td>\n",
       "      <td>0.000183</td>\n",
       "      <td>1.0</td>\n",
       "    </tr>\n",
       "    <tr>\n",
       "      <th>2019-01-01 22:25:00+00:00</th>\n",
       "      <td>1.146475</td>\n",
       "      <td>-0.000048</td>\n",
       "      <td>-1.0</td>\n",
       "    </tr>\n",
       "    <tr>\n",
       "      <th>...</th>\n",
       "      <td>...</td>\n",
       "      <td>...</td>\n",
       "      <td>...</td>\n",
       "    </tr>\n",
       "    <tr>\n",
       "      <th>2019-12-30 23:35:00+00:00</th>\n",
       "      <td>1.120180</td>\n",
       "      <td>-0.000004</td>\n",
       "      <td>-1.0</td>\n",
       "    </tr>\n",
       "    <tr>\n",
       "      <th>2019-12-30 23:40:00+00:00</th>\n",
       "      <td>1.120210</td>\n",
       "      <td>0.000027</td>\n",
       "      <td>1.0</td>\n",
       "    </tr>\n",
       "    <tr>\n",
       "      <th>2019-12-30 23:45:00+00:00</th>\n",
       "      <td>1.120295</td>\n",
       "      <td>0.000076</td>\n",
       "      <td>1.0</td>\n",
       "    </tr>\n",
       "    <tr>\n",
       "      <th>2019-12-30 23:50:00+00:00</th>\n",
       "      <td>1.120275</td>\n",
       "      <td>-0.000018</td>\n",
       "      <td>-1.0</td>\n",
       "    </tr>\n",
       "    <tr>\n",
       "      <th>2019-12-30 23:55:00+00:00</th>\n",
       "      <td>1.120130</td>\n",
       "      <td>-0.000129</td>\n",
       "      <td>-1.0</td>\n",
       "    </tr>\n",
       "  </tbody>\n",
       "</table>\n",
       "<p>73719 rows × 3 columns</p>\n",
       "</div>"
      ],
      "text/plain": [
       "                              price   returns  direction\n",
       "time                                                    \n",
       "2019-01-01 22:05:00+00:00  1.146350 -0.000201       -1.0\n",
       "2019-01-01 22:10:00+00:00  1.146320 -0.000026       -1.0\n",
       "2019-01-01 22:15:00+00:00  1.146320  0.000000        0.0\n",
       "2019-01-01 22:20:00+00:00  1.146530  0.000183        1.0\n",
       "2019-01-01 22:25:00+00:00  1.146475 -0.000048       -1.0\n",
       "...                             ...       ...        ...\n",
       "2019-12-30 23:35:00+00:00  1.120180 -0.000004       -1.0\n",
       "2019-12-30 23:40:00+00:00  1.120210  0.000027        1.0\n",
       "2019-12-30 23:45:00+00:00  1.120295  0.000076        1.0\n",
       "2019-12-30 23:50:00+00:00  1.120275 -0.000018       -1.0\n",
       "2019-12-30 23:55:00+00:00  1.120130 -0.000129       -1.0\n",
       "\n",
       "[73719 rows x 3 columns]"
      ]
     },
     "execution_count": 12,
     "metadata": {},
     "output_type": "execute_result"
    }
   ],
   "source": [
    "df"
   ]
  },
  {
   "cell_type": "code",
   "execution_count": 13,
   "id": "e1014e27",
   "metadata": {},
   "outputs": [
    {
     "name": "stdout",
     "output_type": "stream",
     "text": [
      "\n",
      "Distribución de clases en 'direction:\n",
      "direction\n",
      " 1.0    36058\n",
      "-1.0    35702\n",
      " 0.0     1959\n",
      "Name: count, dtype: int64\n"
     ]
    }
   ],
   "source": [
    "# verificar la distribución dee clases\n",
    "print(\"\\nDistribución de clases en 'direction:\")\n",
    "print(df[\"direction\"].value_counts())"
   ]
  },
  {
   "cell_type": "code",
   "execution_count": null,
   "id": "3eb0f38c",
   "metadata": {},
   "outputs": [],
   "source": [
    "# crear cinco predictores (rendimientos rezagados)\n"
   ]
  }
 ],
 "metadata": {
  "kernelspec": {
   "display_name": "venv",
   "language": "python",
   "name": "python3"
  },
  "language_info": {
   "codemirror_mode": {
    "name": "ipython",
    "version": 3
   },
   "file_extension": ".py",
   "mimetype": "text/x-python",
   "name": "python",
   "nbconvert_exporter": "python",
   "pygments_lexer": "ipython3",
   "version": "3.13.2"
  }
 },
 "nbformat": 4,
 "nbformat_minor": 5
}
