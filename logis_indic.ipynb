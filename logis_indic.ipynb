{
 "cells": [
  {
   "cell_type": "markdown",
   "id": "5313d314",
   "metadata": {},
   "source": [
    "En este notebook voy a implementar un modelo de regresión logística aummentando los predictores, además de los rendimientos rezagados, con los indicadores RSI, SMA, MACD y BB.  \n",
    "También se agregan algunas estrategias que se irán explicando en los comentarios"
   ]
  },
  {
   "cell_type": "code",
   "execution_count": 3,
   "id": "a3c7bb4c",
   "metadata": {},
   "outputs": [],
   "source": [
    "# Se realizan las importaciones necesarias\n",
    "import pandas as pd\n",
    "import numpy as np \n",
    "import matplotlib.pyplot as plt\n",
    "from sklearn.linear_model import LogisticRegression\n",
    "from sklearn.preprocessing import StandardScaler\n",
    "from sklearn.model_selection import train_test_split\n",
    "from sklearn.metrics import classification_report, confusion_matrix\n",
    "plt.style.use(\"seaborn-v0_8-whitegrid\")"
   ]
  },
  {
   "cell_type": "code",
   "execution_count": null,
   "id": "090efbed",
   "metadata": {},
   "outputs": [],
   "source": [
    "# Función para calcular indicadores técnicos\n",
    "def calculate_technical_indicators(df, price_col=\"price\"):\n",
    "    # SMA (Simple Moving Average) - Media móvil simple (ventana de 20 periodos)\n",
    "    df[\"SMA\"] = df[price_col].rolling(window=20).mean()\n",
    "\n",
    "    # MACD (Moving Average Convergence Divergence)\n",
    "    exp1 = df[price_col].ewm(span=12, adjust=False).mean()  # EMA rápida\n",
    "    exp2 = df[price_col].ewm(span=26, adjust=False).mean()  # EMA lenta\n",
    "    df[\"MACD\"] = exp1 - exp2\n",
    "    df[\"MACD_Signal\"] = df[\"MACD\"].ewm(span=9, adjust=False).mean()  # Línea de señal\n",
    "\n",
    "    # RSI (Relative Strength Index)\n",
    "    delta = df[price_col].diff()\n",
    "    gain = (delta.where(delta > 0, 0)).rolling(window=14).mean()\n",
    "    loss = (-delta.where(delta < 0, 0)).rolling(window=14).mean()\n",
    "    rs = gain / loss\n",
    "    df[\"RSI\"] = 100 - (100 / (1 + rs))\n",
    "\n",
    "    # Bandas de Bollinger (ventana de 20 periodos, 2 desviaciones estándar)\n",
    "    df[\"BB_Middle\"] = df[price_col].rolling(window=20).mean()\n",
    "    df[\"BB_Std\"] = df[price_col].rolling(window=20).std()\n",
    "    df[\"BB_Upper\"] = df[\"BB_Middle\"] + 2 * df[\"BB_Std\"],\n",
    "    df[\"BB_Lower\"] = df[\"BB_Middle\"] - 2 * df[\"BB_Std\"]\n",
    "\n",
    "    return df\n"
   ]
  },
  {
   "cell_type": "code",
   "execution_count": 9,
   "id": "b53f04bd",
   "metadata": {},
   "outputs": [],
   "source": [
    "# función para cargar los datos\n",
    "def carga_archivo(archivo, tipo):\n",
    "    data = pd.read_csv(archivo)\n",
    "    if tipo == \"b\":\n",
    "        data = data.rename(columns = {\"Close time\": \"time\", \"Close\": \"price\"})\n",
    "    data[\"time\"] = pd.to_datetime(data[\"time\"])\n",
    "    data.set_index(\"time\", inplace=True)\n",
    "    return data\n"
   ]
  },
  {
   "cell_type": "code",
   "execution_count": 11,
   "id": "288c1946",
   "metadata": {},
   "outputs": [],
   "source": [
    "# seleccionar el archivo de datos\n",
    "archivo = \"five_minute.csv\"\n",
    "tipo = \"t\""
   ]
  },
  {
   "cell_type": "code",
   "execution_count": 12,
   "id": "24960685",
   "metadata": {},
   "outputs": [],
   "source": [
    "\"\"\"Cargar el archivo de datos\n",
    "Voy a realizar cálculos con diferentes archivos de datos que están en el directorio actual y corresponden a\n",
    "datos del tutorial y a datos de Binance.\n",
    "Los datos del tutorial están en el archivo \"five_minute.csv\" y los datos de Binance están en  \"EURUSDT_2020_5MIN.csv\" \"\"\"\n",
    "\n",
    "df = carga_archivo(archivo, tipo)\n"
   ]
  },
  {
   "cell_type": "code",
   "execution_count": 13,
   "id": "6e42bedb",
   "metadata": {},
   "outputs": [
    {
     "data": {
      "text/html": [
       "<div>\n",
       "<style scoped>\n",
       "    .dataframe tbody tr th:only-of-type {\n",
       "        vertical-align: middle;\n",
       "    }\n",
       "\n",
       "    .dataframe tbody tr th {\n",
       "        vertical-align: top;\n",
       "    }\n",
       "\n",
       "    .dataframe thead th {\n",
       "        text-align: right;\n",
       "    }\n",
       "</style>\n",
       "<table border=\"1\" class=\"dataframe\">\n",
       "  <thead>\n",
       "    <tr style=\"text-align: right;\">\n",
       "      <th></th>\n",
       "      <th>price</th>\n",
       "    </tr>\n",
       "    <tr>\n",
       "      <th>time</th>\n",
       "      <th></th>\n",
       "    </tr>\n",
       "  </thead>\n",
       "  <tbody>\n",
       "    <tr>\n",
       "      <th>2019-01-01 22:00:00+00:00</th>\n",
       "      <td>1.146580</td>\n",
       "    </tr>\n",
       "    <tr>\n",
       "      <th>2019-01-01 22:05:00+00:00</th>\n",
       "      <td>1.146350</td>\n",
       "    </tr>\n",
       "    <tr>\n",
       "      <th>2019-01-01 22:10:00+00:00</th>\n",
       "      <td>1.146320</td>\n",
       "    </tr>\n",
       "    <tr>\n",
       "      <th>2019-01-01 22:15:00+00:00</th>\n",
       "      <td>1.146320</td>\n",
       "    </tr>\n",
       "    <tr>\n",
       "      <th>2019-01-01 22:20:00+00:00</th>\n",
       "      <td>1.146530</td>\n",
       "    </tr>\n",
       "    <tr>\n",
       "      <th>...</th>\n",
       "      <td>...</td>\n",
       "    </tr>\n",
       "    <tr>\n",
       "      <th>2019-12-30 23:35:00+00:00</th>\n",
       "      <td>1.120180</td>\n",
       "    </tr>\n",
       "    <tr>\n",
       "      <th>2019-12-30 23:40:00+00:00</th>\n",
       "      <td>1.120210</td>\n",
       "    </tr>\n",
       "    <tr>\n",
       "      <th>2019-12-30 23:45:00+00:00</th>\n",
       "      <td>1.120295</td>\n",
       "    </tr>\n",
       "    <tr>\n",
       "      <th>2019-12-30 23:50:00+00:00</th>\n",
       "      <td>1.120275</td>\n",
       "    </tr>\n",
       "    <tr>\n",
       "      <th>2019-12-30 23:55:00+00:00</th>\n",
       "      <td>1.120130</td>\n",
       "    </tr>\n",
       "  </tbody>\n",
       "</table>\n",
       "<p>73720 rows × 1 columns</p>\n",
       "</div>"
      ],
      "text/plain": [
       "                              price\n",
       "time                               \n",
       "2019-01-01 22:00:00+00:00  1.146580\n",
       "2019-01-01 22:05:00+00:00  1.146350\n",
       "2019-01-01 22:10:00+00:00  1.146320\n",
       "2019-01-01 22:15:00+00:00  1.146320\n",
       "2019-01-01 22:20:00+00:00  1.146530\n",
       "...                             ...\n",
       "2019-12-30 23:35:00+00:00  1.120180\n",
       "2019-12-30 23:40:00+00:00  1.120210\n",
       "2019-12-30 23:45:00+00:00  1.120295\n",
       "2019-12-30 23:50:00+00:00  1.120275\n",
       "2019-12-30 23:55:00+00:00  1.120130\n",
       "\n",
       "[73720 rows x 1 columns]"
      ]
     },
     "execution_count": 13,
     "metadata": {},
     "output_type": "execute_result"
    }
   ],
   "source": [
    "df"
   ]
  },
  {
   "cell_type": "code",
   "execution_count": null,
   "id": "1cf5d57e",
   "metadata": {},
   "outputs": [],
   "source": []
  }
 ],
 "metadata": {
  "kernelspec": {
   "display_name": "venv",
   "language": "python",
   "name": "python3"
  },
  "language_info": {
   "codemirror_mode": {
    "name": "ipython",
    "version": 3
   },
   "file_extension": ".py",
   "mimetype": "text/x-python",
   "name": "python",
   "nbconvert_exporter": "python",
   "pygments_lexer": "ipython3",
   "version": "3.13.2"
  }
 },
 "nbformat": 4,
 "nbformat_minor": 5
}
