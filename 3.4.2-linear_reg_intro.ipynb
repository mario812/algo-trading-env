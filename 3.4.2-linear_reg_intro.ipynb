{
 "cells": [
  {
   "cell_type": "markdown",
   "id": "24cbaf2e",
   "metadata": {},
   "source": [
    "# Regresión Lineal con scikit-learn. Introducción"
   ]
  },
  {
   "cell_type": "code",
   "execution_count": 1,
   "id": "cd33e70d",
   "metadata": {},
   "outputs": [],
   "source": [
    "import pandas as pandas\n",
    "import numpy as np \n",
    "import matplotlib.pyplot as plt \n",
    "plt.style.use(\"seaborn-v0_8-whitegrid\")"
   ]
  },
  {
   "cell_type": "markdown",
   "id": "bcefd906",
   "metadata": {},
   "source": [
    "A continuación se crean 2 arreglos que corresponden al presupuesto y las ganancias (en millones de dólares) de 10 películas. El objetivo es hacer predicciones usando regresión lineal."
   ]
  },
  {
   "cell_type": "code",
   "execution_count": 2,
   "id": "32abda47",
   "metadata": {},
   "outputs": [],
   "source": [
    "budget = np.array([5, 10, 17, 27, 35, 40, 42, 49, 54, 60])"
   ]
  },
  {
   "cell_type": "code",
   "execution_count": 3,
   "id": "93d684ca",
   "metadata": {},
   "outputs": [],
   "source": [
    "revenue = np.array([2.6, 19., 23.8, 26.9, 41.1, 58.3, 40.3, 58.7, 73.1, 69.7])"
   ]
  },
  {
   "cell_type": "code",
   "execution_count": null,
   "id": "58b9e376",
   "metadata": {},
   "outputs": [],
   "source": []
  }
 ],
 "metadata": {
  "kernelspec": {
   "display_name": "venv",
   "language": "python",
   "name": "python3"
  },
  "language_info": {
   "codemirror_mode": {
    "name": "ipython",
    "version": 3
   },
   "file_extension": ".py",
   "mimetype": "text/x-python",
   "name": "python",
   "nbconvert_exporter": "python",
   "pygments_lexer": "ipython3",
   "version": "3.13.2"
  }
 },
 "nbformat": 4,
 "nbformat_minor": 5
}
