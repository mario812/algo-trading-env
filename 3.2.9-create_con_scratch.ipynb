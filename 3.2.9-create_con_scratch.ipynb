{
 "cells": [
  {
   "cell_type": "markdown",
   "id": "0c154780",
   "metadata": {},
   "source": [
    "<h3> Reto: Crear la Clase ConBacktester desde Cero</h3>\n",
    "Pasos:  \n",
    "1. Inicializar las propiedades symbol, start, end, tc y results.  \n",
    "2. Agregar el método get_data() para recuperar y preparar los datos crudos del archivo \"intraday_pairs.csv\". Llamar a get_data() dentro del método \"dunder init\"\n",
    "3. Agregar el método test_strategy() con el parámetro window\n",
    "4. Agregar el método plot_results().\n",
    "5. Agregar una representación adecuada y Docstrings."
   ]
  },
  {
   "cell_type": "markdown",
   "id": "3e79d2cb",
   "metadata": {},
   "source": [
    "## Instanciación"
   ]
  },
  {
   "cell_type": "code",
   "execution_count": 1,
   "id": "09966978",
   "metadata": {},
   "outputs": [],
   "source": [
    "class ConBacktester():\n",
    "    def __init__(self, symbol, start, end, tc):\n",
    "        self.symbol = symbol\n",
    "        self.start = start\n",
    "        self.end = end\n",
    "        self.tc = tc\n",
    "        self.results = None\n"
   ]
  },
  {
   "cell_type": "code",
   "execution_count": 2,
   "id": "b8552691",
   "metadata": {},
   "outputs": [],
   "source": [
    "tester = ConBacktester(\"EURUSD\", \"2018-01-01\", \"2019-12-31\", 0)"
   ]
  },
  {
   "cell_type": "code",
   "execution_count": 3,
   "id": "108b86f4",
   "metadata": {},
   "outputs": [
    {
     "data": {
      "text/plain": [
       "'2019-12-31'"
      ]
     },
     "execution_count": 3,
     "metadata": {},
     "output_type": "execute_result"
    }
   ],
   "source": [
    "tester.end"
   ]
  },
  {
   "cell_type": "code",
   "execution_count": 4,
   "id": "10f49a04",
   "metadata": {},
   "outputs": [
    {
     "data": {
      "text/plain": [
       "0"
      ]
     },
     "execution_count": 4,
     "metadata": {},
     "output_type": "execute_result"
    }
   ],
   "source": [
    "tester.tc"
   ]
  },
  {
   "cell_type": "code",
   "execution_count": null,
   "id": "2688a064",
   "metadata": {},
   "outputs": [],
   "source": []
  },
  {
   "cell_type": "markdown",
   "id": "9aeff7c3",
   "metadata": {},
   "source": [
    "## Método get_data()"
   ]
  },
  {
   "cell_type": "markdown",
   "id": "8c21df06",
   "metadata": {},
   "source": []
  }
 ],
 "metadata": {
  "kernelspec": {
   "display_name": "venv",
   "language": "python",
   "name": "python3"
  },
  "language_info": {
   "codemirror_mode": {
    "name": "ipython",
    "version": 3
   },
   "file_extension": ".py",
   "mimetype": "text/x-python",
   "name": "python",
   "nbconvert_exporter": "python",
   "pygments_lexer": "ipython3",
   "version": "3.13.2"
  }
 },
 "nbformat": 4,
 "nbformat_minor": 5
}
