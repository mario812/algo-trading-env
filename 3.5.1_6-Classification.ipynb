{
 "cells": [
  {
   "cell_type": "markdown",
   "id": "61cf948d",
   "metadata": {},
   "source": [
    "## REgresión Logística con scikit-learn Introducción (Parte 1)\n",
    "Vamos a estudiar un problema simple de clasificación.  \n",
    "Suponer que le preguntamos a 20 estudiantes que están realizando un examen, cuanto tiempo gastaron en prepararse para el examen y se obtuvieron los siguientes  resultados en horas:"
   ]
  },
  {
   "cell_type": "code",
   "execution_count": 1,
   "id": "8328eb9c",
   "metadata": {},
   "outputs": [],
   "source": [
    "# importaciones necesarias\n",
    "import pandas as pd\n",
    "import numpy as np \n",
    "import matplotlib.pyplot as plt \n",
    "plt.style.use(\"seaborn-v0_8-whitegrid\")"
   ]
  },
  {
   "cell_type": "code",
   "execution_count": 2,
   "id": "8a22cea4",
   "metadata": {},
   "outputs": [],
   "source": [
    "hours = np.array([0.5, 0.75, 1., 1.25, 1.5, 1.75, 2.,\n",
    "                  2.25, 2.5, 2.75, 3., 3.25, 3.5, 4., 4.25,\n",
    "                  4.5, 4.75, 5., 5.5])"
   ]
  },
  {
   "cell_type": "code",
   "execution_count": 3,
   "id": "36d7516b",
   "metadata": {},
   "outputs": [],
   "source": [
    "success = np.array([0, 0, 0, 0, 0, 0, 1, 0, 1, 0, 1, 0, 1, 0, 1, 1, 1, 1, 1, 1])"
   ]
  },
  {
   "cell_type": "code",
   "execution_count": null,
   "id": "d7b81b4f",
   "metadata": {},
   "outputs": [],
   "source": []
  }
 ],
 "metadata": {
  "kernelspec": {
   "display_name": "VENV",
   "language": "python",
   "name": "python3"
  },
  "language_info": {
   "codemirror_mode": {
    "name": "ipython",
    "version": 3
   },
   "file_extension": ".py",
   "mimetype": "text/x-python",
   "name": "python",
   "nbconvert_exporter": "python",
   "pygments_lexer": "ipython3",
   "version": "3.13.2"
  }
 },
 "nbformat": 4,
 "nbformat_minor": 5
}
